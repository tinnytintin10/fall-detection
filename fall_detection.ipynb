{
 "cells": [
  {
   "cell_type": "code",
   "execution_count": null,
   "metadata": {
    "colab": {},
    "colab_type": "code",
    "id": "BBHnoXamy_x1"
   },
   "outputs": [],
   "source": [
    "import math\n",
    "import numpy as np\n",
    "import matplotlib\n",
    "import matplotlib.pyplot as plt\n",
    "import pylab as pl\n",
    "from scipy.signal import butter, freqz, filtfilt, firwin, iirnotch, lfilter, find_peaks"
   ]
  },
  {
   "cell_type": "code",
   "execution_count": null,
   "metadata": {
    "colab": {},
    "colab_type": "code",
    "id": "6wmdLAr2y_yD"
   },
   "outputs": [],
   "source": [
    "def pull_data(dir_name, file_name):\n",
    "    f = open(dir_name + '/' + file_name + '.csv')\n",
    "    xs = []\n",
    "    ys = []\n",
    "    zs = []\n",
    "    rs = []\n",
    "    timestamps = []\n",
    "    for line in f:\n",
    "        value = line.split(',')\n",
    "        if len(value) > 3:\n",
    "            timestamps.append(float(value[-4]))\n",
    "            x = float(value[-3])\n",
    "            y = float(value[-2])\n",
    "            z = float(value[-1])\n",
    "            r = math.sqrt(x ** 2 + y ** 2 + z ** 2)\n",
    "            xs.append(x)\n",
    "            ys.append(y)\n",
    "            zs.append(z)\n",
    "            rs.append(r)\n",
    "    return np.array(xs), np.array(ys), np.array(zs), np.array(rs), np.array(timestamps)\n"
   ]
  },
  {
   "cell_type": "code",
   "execution_count": null,
   "metadata": {
    "colab": {},
    "colab_type": "code",
    "id": "9vQTP6Goy_yM"
   },
   "outputs": [],
   "source": [
    "# read accelerometer data file\n",
    "\n",
    "accel_file = 'data'\n",
    "x_data, y_data, z_data, signal, timestamps = pull_data(accel_file, 'fall')\n",
    "\n",
    "c = timestamps[0]\n",
    "timestamps = (timestamps - c)/1000000000"
   ]
  },
  {
   "cell_type": "code",
   "execution_count": null,
   "metadata": {
    "colab": {},
    "colab_type": "code",
    "id": "yhrUIj6ly_yW"
   },
   "outputs": [],
   "source": [
    "# FILL IN CODE: plot three-axis acceleration\n",
    "plt.figure(figsize=(10,5))\n",
    "pl.plot(timestamps, z_data, 'red', label = 'z-axis')\n",
    "pl.plot(timestamps, x_data, 'blue', label = 'x-axis')\n",
    "pl.plot(timestamps, y_data, 'green', label = 'y-axis')\n",
    "\n",
    "plt.legend(loc='upper right')\n",
    "pl.grid()\n",
    "pl.show()"
   ]
  },
  {
   "cell_type": "code",
   "execution_count": null,
   "metadata": {
    "colab": {},
    "colab_type": "code",
    "id": "z6eSQVdvy_yi"
   },
   "outputs": [],
   "source": [
    "# FILL IN CODE: Calculate and plot magnitude\n",
    "magnitude = np.sqrt(x_data**2 + y_data**2 + z_data**2)\n",
    "plt.figure(figsize=(10,5))\n",
    "pl.plot(timestamps, magnitude, 'r-',label='magnitude')\n",
    "plt.title(\"magnitude\")\n",
    "pl.grid()\n",
    "pl.show()"
   ]
  },
  {
   "cell_type": "code",
   "execution_count": null,
   "metadata": {
    "colab": {},
    "colab_type": "code",
    "id": "2o_vaYuLy_yt"
   },
   "outputs": [],
   "source": [
    "cutoff = 1\n",
    "fs = 50.0  \n",
    "order = 5\n",
    "nyq = 0.5 * fs\n",
    "normal_cutoff = cutoff / nyq\n",
    "b, a = butter(order, normal_cutoff, btype='low', analog=False)\n",
    "BWfiltered = filtfilt(b, a, signal)"
   ]
  },
  {
   "cell_type": "code",
   "execution_count": null,
   "metadata": {
    "colab": {},
    "colab_type": "code",
    "id": "GEQNgo9jy_y0"
   },
   "outputs": [],
   "source": [
    "plt.figure(figsize=(10,5))\n",
    "pl.plot(timestamps, signal, 'r-',label='unfiltered')\n",
    "pl.plot(timestamps, BWfiltered, 'b-', label='filtered')\n",
    "plt.title(\"butterworth filter\")\n",
    "plt.legend(loc='upper left')\n",
    "pl.grid()\n",
    "pl.show()\n",
    "\n",
    "\n",
    "plt.figure(figsize=(10,5))\n",
    "pl.plot(timestamps, BWfiltered, 'b-', label='filtered')\n",
    "plt.title(\"butterworth filter\")\n",
    "plt.legend(loc='upper right')\n",
    "pl.grid()\n",
    "pl.show()"
   ]
  },
  {
   "cell_type": "code",
   "execution_count": null,
   "metadata": {
    "colab": {},
    "colab_type": "code",
    "id": "qKlpIrTqy_y9"
   },
   "outputs": [],
   "source": [
    "\n",
    "steps,_ = find_peaks(BWfiltered, height=8) \n",
    "\n",
    "print(f\"{len(timestamps[steps])} steps\")"
   ]
  },
  {
   "cell_type": "code",
   "execution_count": null,
   "metadata": {
    "colab": {},
    "colab_type": "code",
    "id": "5fE-q3wFy_zE"
   },
   "outputs": [],
   "source": [
    "plt.figure(figsize=(10,5))\n",
    "pl.plot(timestamps[steps], BWfiltered[steps], 'o')\n",
    "pl.plot(timestamps, BWfiltered, 'b-', label='filtered')\n",
    "plt.title(\"butterworth filter\")\n",
    "pl.grid()\n",
    "pl.show()"
   ]
  }
 ],
 "metadata": {
  "colab": {
   "name": "step_counting.ipynb",
   "provenance": []
  },
  "kernelspec": {
   "name": "python385jvsc74a57bd0dca0ade3e726a953b501b15e8e990130d2b7799f14cfd9f4271676035ebe5511",
   "display_name": "Python 3.8.5 64-bit ('base': conda)"
  },
  "language_info": {
   "codemirror_mode": {
    "name": "ipython",
    "version": 3
   },
   "file_extension": ".py",
   "mimetype": "text/x-python",
   "name": "python",
   "nbconvert_exporter": "python",
   "pygments_lexer": "ipython3",
   "version": "3.8.5"
  }
 },
 "nbformat": 4,
 "nbformat_minor": 1
}